{
  "nbformat": 4,
  "nbformat_minor": 0,
  "metadata": {
    "colab": {
      "name": "Copy of BERT-Embd.ipynb",
      "provenance": []
    },
    "kernelspec": {
      "name": "python3",
      "display_name": "Python 3"
    },
    "language_info": {
      "name": "python"
    }
  },
  "cells": [
    {
      "cell_type": "code",
      "execution_count": 1,
      "metadata": {
        "colab": {
          "base_uri": "https://localhost:8080/"
        },
        "id": "v1h-7NJEo1he",
        "outputId": "5edefa73-a575-4855-ec8e-ee735629f080"
      },
      "outputs": [
        {
          "output_type": "stream",
          "name": "stdout",
          "text": [
            "Collecting transformers\n",
            "  Downloading transformers-4.16.2-py3-none-any.whl (3.5 MB)\n",
            "\u001b[K     |████████████████████████████████| 3.5 MB 11.8 MB/s \n",
            "\u001b[?25hCollecting tokenizers!=0.11.3,>=0.10.1\n",
            "  Downloading tokenizers-0.11.4-cp37-cp37m-manylinux_2_12_x86_64.manylinux2010_x86_64.whl (6.8 MB)\n",
            "\u001b[K     |████████████████████████████████| 6.8 MB 43.0 MB/s \n",
            "\u001b[?25hRequirement already satisfied: requests in /usr/local/lib/python3.7/dist-packages (from transformers) (2.23.0)\n",
            "Collecting pyyaml>=5.1\n",
            "  Downloading PyYAML-6.0-cp37-cp37m-manylinux_2_5_x86_64.manylinux1_x86_64.manylinux_2_12_x86_64.manylinux2010_x86_64.whl (596 kB)\n",
            "\u001b[K     |████████████████████████████████| 596 kB 27.4 MB/s \n",
            "\u001b[?25hRequirement already satisfied: packaging>=20.0 in /usr/local/lib/python3.7/dist-packages (from transformers) (21.3)\n",
            "Requirement already satisfied: regex!=2019.12.17 in /usr/local/lib/python3.7/dist-packages (from transformers) (2019.12.20)\n",
            "Collecting huggingface-hub<1.0,>=0.1.0\n",
            "  Downloading huggingface_hub-0.4.0-py3-none-any.whl (67 kB)\n",
            "\u001b[K     |████████████████████████████████| 67 kB 3.4 MB/s \n",
            "\u001b[?25hRequirement already satisfied: tqdm>=4.27 in /usr/local/lib/python3.7/dist-packages (from transformers) (4.62.3)\n",
            "Collecting sacremoses\n",
            "  Downloading sacremoses-0.0.47-py2.py3-none-any.whl (895 kB)\n",
            "\u001b[K     |████████████████████████████████| 895 kB 45.7 MB/s \n",
            "\u001b[?25hRequirement already satisfied: importlib-metadata in /usr/local/lib/python3.7/dist-packages (from transformers) (4.10.1)\n",
            "Requirement already satisfied: numpy>=1.17 in /usr/local/lib/python3.7/dist-packages (from transformers) (1.19.5)\n",
            "Requirement already satisfied: filelock in /usr/local/lib/python3.7/dist-packages (from transformers) (3.4.2)\n",
            "Requirement already satisfied: typing-extensions>=3.7.4.3 in /usr/local/lib/python3.7/dist-packages (from huggingface-hub<1.0,>=0.1.0->transformers) (3.10.0.2)\n",
            "Requirement already satisfied: pyparsing!=3.0.5,>=2.0.2 in /usr/local/lib/python3.7/dist-packages (from packaging>=20.0->transformers) (3.0.7)\n",
            "Requirement already satisfied: zipp>=0.5 in /usr/local/lib/python3.7/dist-packages (from importlib-metadata->transformers) (3.7.0)\n",
            "Requirement already satisfied: idna<3,>=2.5 in /usr/local/lib/python3.7/dist-packages (from requests->transformers) (2.10)\n",
            "Requirement already satisfied: urllib3!=1.25.0,!=1.25.1,<1.26,>=1.21.1 in /usr/local/lib/python3.7/dist-packages (from requests->transformers) (1.24.3)\n",
            "Requirement already satisfied: chardet<4,>=3.0.2 in /usr/local/lib/python3.7/dist-packages (from requests->transformers) (3.0.4)\n",
            "Requirement already satisfied: certifi>=2017.4.17 in /usr/local/lib/python3.7/dist-packages (from requests->transformers) (2021.10.8)\n",
            "Requirement already satisfied: click in /usr/local/lib/python3.7/dist-packages (from sacremoses->transformers) (7.1.2)\n",
            "Requirement already satisfied: six in /usr/local/lib/python3.7/dist-packages (from sacremoses->transformers) (1.15.0)\n",
            "Requirement already satisfied: joblib in /usr/local/lib/python3.7/dist-packages (from sacremoses->transformers) (1.1.0)\n",
            "Installing collected packages: pyyaml, tokenizers, sacremoses, huggingface-hub, transformers\n",
            "  Attempting uninstall: pyyaml\n",
            "    Found existing installation: PyYAML 3.13\n",
            "    Uninstalling PyYAML-3.13:\n",
            "      Successfully uninstalled PyYAML-3.13\n",
            "Successfully installed huggingface-hub-0.4.0 pyyaml-6.0 sacremoses-0.0.47 tokenizers-0.11.4 transformers-4.16.2\n"
          ]
        }
      ],
      "source": [
        "pip install transformers"
      ]
    },
    {
      "cell_type": "code",
      "source": [
        "pip install pytorch_transformers"
      ],
      "metadata": {
        "colab": {
          "base_uri": "https://localhost:8080/"
        },
        "id": "CQQoH3s7tdKR",
        "outputId": "119110ff-36c7-4dc1-ebf4-7274696aea42"
      },
      "execution_count": 2,
      "outputs": [
        {
          "output_type": "stream",
          "name": "stdout",
          "text": [
            "Collecting pytorch_transformers\n",
            "  Downloading pytorch_transformers-1.2.0-py3-none-any.whl (176 kB)\n",
            "\u001b[K     |████████████████████████████████| 176 kB 16.9 MB/s \n",
            "\u001b[?25hCollecting boto3\n",
            "  Downloading boto3-1.20.51-py3-none-any.whl (131 kB)\n",
            "\u001b[K     |████████████████████████████████| 131 kB 13.8 MB/s \n",
            "\u001b[?25hRequirement already satisfied: requests in /usr/local/lib/python3.7/dist-packages (from pytorch_transformers) (2.23.0)\n",
            "Requirement already satisfied: numpy in /usr/local/lib/python3.7/dist-packages (from pytorch_transformers) (1.19.5)\n",
            "Requirement already satisfied: tqdm in /usr/local/lib/python3.7/dist-packages (from pytorch_transformers) (4.62.3)\n",
            "Requirement already satisfied: regex in /usr/local/lib/python3.7/dist-packages (from pytorch_transformers) (2019.12.20)\n",
            "Collecting sentencepiece\n",
            "  Downloading sentencepiece-0.1.96-cp37-cp37m-manylinux_2_17_x86_64.manylinux2014_x86_64.whl (1.2 MB)\n",
            "\u001b[K     |████████████████████████████████| 1.2 MB 40.6 MB/s \n",
            "\u001b[?25hRequirement already satisfied: sacremoses in /usr/local/lib/python3.7/dist-packages (from pytorch_transformers) (0.0.47)\n",
            "Requirement already satisfied: torch>=1.0.0 in /usr/local/lib/python3.7/dist-packages (from pytorch_transformers) (1.10.0+cu111)\n",
            "Requirement already satisfied: typing-extensions in /usr/local/lib/python3.7/dist-packages (from torch>=1.0.0->pytorch_transformers) (3.10.0.2)\n",
            "Collecting botocore<1.24.0,>=1.23.51\n",
            "  Downloading botocore-1.23.51-py3-none-any.whl (8.5 MB)\n",
            "\u001b[K     |████████████████████████████████| 8.5 MB 53.8 MB/s \n",
            "\u001b[?25hCollecting jmespath<1.0.0,>=0.7.1\n",
            "  Downloading jmespath-0.10.0-py2.py3-none-any.whl (24 kB)\n",
            "Collecting s3transfer<0.6.0,>=0.5.0\n",
            "  Downloading s3transfer-0.5.1-py3-none-any.whl (79 kB)\n",
            "\u001b[K     |████████████████████████████████| 79 kB 7.7 MB/s \n",
            "\u001b[?25hCollecting urllib3<1.27,>=1.25.4\n",
            "  Downloading urllib3-1.26.8-py2.py3-none-any.whl (138 kB)\n",
            "\u001b[K     |████████████████████████████████| 138 kB 70.3 MB/s \n",
            "\u001b[?25hRequirement already satisfied: python-dateutil<3.0.0,>=2.1 in /usr/local/lib/python3.7/dist-packages (from botocore<1.24.0,>=1.23.51->boto3->pytorch_transformers) (2.8.2)\n",
            "Requirement already satisfied: six>=1.5 in /usr/local/lib/python3.7/dist-packages (from python-dateutil<3.0.0,>=2.1->botocore<1.24.0,>=1.23.51->boto3->pytorch_transformers) (1.15.0)\n",
            "Requirement already satisfied: certifi>=2017.4.17 in /usr/local/lib/python3.7/dist-packages (from requests->pytorch_transformers) (2021.10.8)\n",
            "Requirement already satisfied: chardet<4,>=3.0.2 in /usr/local/lib/python3.7/dist-packages (from requests->pytorch_transformers) (3.0.4)\n",
            "Requirement already satisfied: idna<3,>=2.5 in /usr/local/lib/python3.7/dist-packages (from requests->pytorch_transformers) (2.10)\n",
            "  Downloading urllib3-1.25.11-py2.py3-none-any.whl (127 kB)\n",
            "\u001b[K     |████████████████████████████████| 127 kB 45.1 MB/s \n",
            "\u001b[?25hRequirement already satisfied: click in /usr/local/lib/python3.7/dist-packages (from sacremoses->pytorch_transformers) (7.1.2)\n",
            "Requirement already satisfied: joblib in /usr/local/lib/python3.7/dist-packages (from sacremoses->pytorch_transformers) (1.1.0)\n",
            "Installing collected packages: urllib3, jmespath, botocore, s3transfer, sentencepiece, boto3, pytorch-transformers\n",
            "  Attempting uninstall: urllib3\n",
            "    Found existing installation: urllib3 1.24.3\n",
            "    Uninstalling urllib3-1.24.3:\n",
            "      Successfully uninstalled urllib3-1.24.3\n",
            "\u001b[31mERROR: pip's dependency resolver does not currently take into account all the packages that are installed. This behaviour is the source of the following dependency conflicts.\n",
            "datascience 0.10.6 requires folium==0.2.1, but you have folium 0.8.3 which is incompatible.\u001b[0m\n",
            "Successfully installed boto3-1.20.51 botocore-1.23.51 jmespath-0.10.0 pytorch-transformers-1.2.0 s3transfer-0.5.1 sentencepiece-0.1.96 urllib3-1.25.11\n"
          ]
        }
      ]
    },
    {
      "cell_type": "code",
      "source": [
        ""
      ],
      "metadata": {
        "id": "egx5mOoBtdH1"
      },
      "execution_count": null,
      "outputs": []
    },
    {
      "cell_type": "code",
      "source": [
        "import torch\n",
        "from pytorch_transformers import BertTokenizer\n",
        "from pytorch_transformers import BertModel\n",
        "## Load pretrained model/tokenizer\n",
        "tokenizer = BertTokenizer.from_pretrained('bert-base-uncased')\n",
        "model = BertModel.from_pretrained('bert-base-uncased',output_hidden_states=True)"
      ],
      "metadata": {
        "colab": {
          "base_uri": "https://localhost:8080/"
        },
        "id": "o7AcRifepyd-",
        "outputId": "ab991e32-706d-4ddc-ff22-d2c0c0e84568"
      },
      "execution_count": 3,
      "outputs": [
        {
          "output_type": "stream",
          "name": "stderr",
          "text": [
            "100%|██████████| 231508/231508 [00:00<00:00, 13265231.29B/s]\n",
            "100%|██████████| 433/433 [00:00<00:00, 232093.75B/s]\n",
            "100%|██████████| 440473133/440473133 [00:24<00:00, 18124709.28B/s]\n"
          ]
        }
      ]
    },
    {
      "cell_type": "code",
      "source": [
        "def final(text):\n",
        "  marked_text = \"[CLS] \" + text + \" [SEP]\"\n",
        "  tokenized_text = tokenizer.tokenize(marked_text)\n",
        "  indexed_tokens = tokenizer.convert_tokens_to_ids(tokenized_text)\n",
        "  tokens_tensor = torch.tensor([indexed_tokens])\n",
        "\n",
        "  with torch.no_grad():\n",
        "    outputs = model(tokens_tensor)\n",
        "    last_hidden_state = outputs[0]\n",
        "    word_embed_1 = last_hidden_state\n",
        "# Evaluating the model will return a different number of objects               based on how it's  configured in the `from_pretrained` call earlier. In this case, becase we set `output_hidden_states = True`, the third item will be the hidden states from all layers. See the documentation for more details:https://huggingface.co/transformers/model_doc/bert.html#bertmodel\n",
        "    hidden_states = outputs[2]\n",
        "    word_embed_6 = torch.cat([hidden_states[i] for i in [-1,-2,-3,-4]], dim=-1)\n",
        "\n",
        "    sentence_embedding = torch.mean(word_embed_6, dim=1)\n",
        "\n",
        "  return sentence_embedding\n"
      ],
      "metadata": {
        "id": "MAKkLsctxzRc"
      },
      "execution_count": 4,
      "outputs": []
    },
    {
      "cell_type": "code",
      "source": [
        "# Define an input text\n",
        "text = \"Here is the sentence I want embeddings for.\"\n",
        "# Add the special tokens.\n",
        "marked_text = \"[CLS] \" + text + \" [SEP]\"\n",
        "# Split the sentence into tokens.\n",
        "tokenized_text = tokenizer.tokenize(marked_text)\n",
        "# Map the token strings to their vocabulary indeces.\n",
        "indexed_tokens = tokenizer.convert_tokens_to_ids(tokenized_text)\n",
        "# Display the words with their indeces.\n",
        "for tup in zip(tokenized_text, indexed_tokens):\n",
        "    print('{:<12} {:>6,}'.format(tup[0], tup[1]))"
      ],
      "metadata": {
        "colab": {
          "base_uri": "https://localhost:8080/"
        },
        "id": "Cgg0ZZlCtWp1",
        "outputId": "fe6a1e58-e5de-439a-b83e-08281d5ccb2f"
      },
      "execution_count": 5,
      "outputs": [
        {
          "output_type": "stream",
          "name": "stdout",
          "text": [
            "[CLS]           101\n",
            "here          2,182\n",
            "is            2,003\n",
            "the           1,996\n",
            "sentence      6,251\n",
            "i             1,045\n",
            "want          2,215\n",
            "em            7,861\n",
            "##bed         8,270\n",
            "##ding        4,667\n",
            "##s           2,015\n",
            "for           2,005\n",
            ".             1,012\n",
            "[SEP]           102\n"
          ]
        }
      ]
    },
    {
      "cell_type": "code",
      "source": [
        "import torch\n",
        "# Convert inputs to PyTorch tensors\n",
        "tokens_tensor = torch.tensor([indexed_tokens])\n",
        "# Put the model in \"evaluation\" mode,meaning feed-forward operation.\n",
        "model.eval()"
      ],
      "metadata": {
        "id": "pZihcVo3t5e5"
      },
      "execution_count": null,
      "outputs": []
    },
    {
      "cell_type": "code",
      "source": [
        "#Run the text through BERT, get the output and collect all of the hidden states produced from all 12 layers.\n",
        "with torch.no_grad():\n",
        "    outputs = model(tokens_tensor)\n",
        "# can use last hidden state as word embeddings\n",
        "    last_hidden_state = outputs[0]\n",
        "    word_embed_1 = last_hidden_state\n",
        "# Evaluating the model will return a different number of objects               based on how it's  configured in the `from_pretrained` call earlier. In this case, becase we set `output_hidden_states = True`, the third item will be the hidden states from all layers. See the documentation for more details:https://huggingface.co/transformers/model_doc/bert.html#bertmodel\n",
        "    hidden_states = outputs[2]\n",
        "# initial embeddings can be taken from 0th layer of hidden states\n",
        "    word_embed_2 = hidden_states[0]\n",
        "# sum of all hidden states\n",
        "    word_embed_3 = torch.stack(hidden_states).sum(0)\n",
        "# sum of second to last layer\n",
        "    word_embed_4 = torch.stack(hidden_states[2:]).sum(0)\n",
        "# sum of last four layer\n",
        "    word_embed_5 = torch.stack(hidden_states[-4:]).sum(0)\n",
        "# concatenate last four layers\n",
        "    word_embed_6 = torch.cat([hidden_states[i] for i in [-1,-2,-3,-4]], dim=-1)"
      ],
      "metadata": {
        "id": "DwwovqePt5rt"
      },
      "execution_count": 7,
      "outputs": []
    },
    {
      "cell_type": "code",
      "source": [
        "word_embed_6.shape"
      ],
      "metadata": {
        "colab": {
          "base_uri": "https://localhost:8080/"
        },
        "id": "mwTFewFGuMUR",
        "outputId": "73bf402f-fe7c-44b3-ea92-04d499d58eea"
      },
      "execution_count": 8,
      "outputs": [
        {
          "output_type": "execute_result",
          "data": {
            "text/plain": [
              "torch.Size([1, 14, 3072])"
            ]
          },
          "metadata": {},
          "execution_count": 8
        }
      ]
    },
    {
      "cell_type": "code",
      "source": [
        "sentence_embedding = torch.mean(word_embed_6, dim=1)"
      ],
      "metadata": {
        "id": "lqY0Jo9buOzt"
      },
      "execution_count": 9,
      "outputs": []
    },
    {
      "cell_type": "code",
      "source": [
        "sentence_embedding.shape"
      ],
      "metadata": {
        "colab": {
          "base_uri": "https://localhost:8080/"
        },
        "id": "a0qmpQR1u4V4",
        "outputId": "1d297465-e638-4643-e77e-c468d93685de"
      },
      "execution_count": 10,
      "outputs": [
        {
          "output_type": "execute_result",
          "data": {
            "text/plain": [
              "torch.Size([1, 3072])"
            ]
          },
          "metadata": {},
          "execution_count": 10
        }
      ]
    },
    {
      "cell_type": "code",
      "source": [
        "sentence_embedding"
      ],
      "metadata": {
        "colab": {
          "base_uri": "https://localhost:8080/"
        },
        "id": "pYu6t9wRycaO",
        "outputId": "b7c0a4dd-d09f-47dc-a16e-3c8bd09a4cc2"
      },
      "execution_count": 11,
      "outputs": [
        {
          "output_type": "execute_result",
          "data": {
            "text/plain": [
              "tensor([[ 0.1472, -0.1808,  0.1119,  ...,  0.1263, -0.0970,  0.0809]])"
            ]
          },
          "metadata": {},
          "execution_count": 11
        }
      ]
    },
    {
      "cell_type": "code",
      "source": [
        "texts = ['Here is the sentence I want embeddings for.', 'Hi Its been a great day but i am not sure what the next']"
      ],
      "metadata": {
        "id": "404XxOGTu8zf"
      },
      "execution_count": 12,
      "outputs": []
    },
    {
      "cell_type": "code",
      "source": [
        "final(texts[0])"
      ],
      "metadata": {
        "colab": {
          "base_uri": "https://localhost:8080/"
        },
        "id": "xKuk4fZNxREM",
        "outputId": "0b3bf698-dd16-474c-e384-4fb83502579c"
      },
      "execution_count": 13,
      "outputs": [
        {
          "output_type": "execute_result",
          "data": {
            "text/plain": [
              "tensor([[ 0.1472, -0.1808,  0.1119,  ...,  0.1263, -0.0970,  0.0809]])"
            ]
          },
          "metadata": {},
          "execution_count": 13
        }
      ]
    },
    {
      "cell_type": "code",
      "source": [
        ""
      ],
      "metadata": {
        "id": "L40KyGLEyjhk"
      },
      "execution_count": null,
      "outputs": []
    },
    {
      "cell_type": "code",
      "source": [
        "from google.colab import files\n",
        "uploaded = files.upload()"
      ],
      "metadata": {
        "colab": {
          "resources": {
            "http://localhost:8080/nbextensions/google.colab/files.js": {
              "data": "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",
              "ok": true,
              "headers": [
                [
                  "content-type",
                  "application/javascript"
                ]
              ],
              "status": 200,
              "status_text": ""
            }
          },
          "base_uri": "https://localhost:8080/",
          "height": 73
        },
        "id": "Lgq81Vks_FD2",
        "outputId": "b57a550c-5755-456a-efed-e0b8e4265212"
      },
      "execution_count": 14,
      "outputs": [
        {
          "output_type": "display_data",
          "data": {
            "text/html": [
              "\n",
              "     <input type=\"file\" id=\"files-0085af21-d09e-470e-aac5-bfb9f6e3ef6f\" name=\"files[]\" multiple disabled\n",
              "        style=\"border:none\" />\n",
              "     <output id=\"result-0085af21-d09e-470e-aac5-bfb9f6e3ef6f\">\n",
              "      Upload widget is only available when the cell has been executed in the\n",
              "      current browser session. Please rerun this cell to enable.\n",
              "      </output>\n",
              "      <script src=\"/nbextensions/google.colab/files.js\"></script> "
            ],
            "text/plain": [
              "<IPython.core.display.HTML object>"
            ]
          },
          "metadata": {}
        },
        {
          "output_type": "stream",
          "name": "stdout",
          "text": [
            "Saving Arg-Rank.csv to Arg-Rank.csv\n"
          ]
        }
      ]
    },
    {
      "cell_type": "code",
      "source": [
        "import numpy as np\n",
        "import pandas as pd"
      ],
      "metadata": {
        "id": "vAeAMW7wCgoe"
      },
      "execution_count": 15,
      "outputs": []
    },
    {
      "cell_type": "code",
      "source": [
        "df = pd.read_csv('Arg-Rank.csv')\n",
        "df"
      ],
      "metadata": {
        "colab": {
          "base_uri": "https://localhost:8080/",
          "height": 424
        },
        "id": "c3qjEpr8CWCI",
        "outputId": "04105680-9a0f-4537-85b9-7a1a2ba8e8cb"
      },
      "execution_count": 16,
      "outputs": [
        {
          "output_type": "execute_result",
          "data": {
            "text/html": [
              "\n",
              "  <div id=\"df-863d089e-2c07-4c3a-bdd7-60ea6bf2d398\">\n",
              "    <div class=\"colab-df-container\">\n",
              "      <div>\n",
              "<style scoped>\n",
              "    .dataframe tbody tr th:only-of-type {\n",
              "        vertical-align: middle;\n",
              "    }\n",
              "\n",
              "    .dataframe tbody tr th {\n",
              "        vertical-align: top;\n",
              "    }\n",
              "\n",
              "    .dataframe thead th {\n",
              "        text-align: right;\n",
              "    }\n",
              "</style>\n",
              "<table border=\"1\" class=\"dataframe\">\n",
              "  <thead>\n",
              "    <tr style=\"text-align: right;\">\n",
              "      <th></th>\n",
              "      <th>id</th>\n",
              "      <th>rank</th>\n",
              "      <th>argument</th>\n",
              "    </tr>\n",
              "  </thead>\n",
              "  <tbody>\n",
              "    <tr>\n",
              "      <th>0</th>\n",
              "      <td>22</td>\n",
              "      <td>0.625</td>\n",
              "      <td>90% of traffic accidents are due (at least par...</td>\n",
              "    </tr>\n",
              "    <tr>\n",
              "      <th>1</th>\n",
              "      <td>43</td>\n",
              "      <td>0.8</td>\n",
              "      <td>A large part of the inefficiencies of vehicles...</td>\n",
              "    </tr>\n",
              "    <tr>\n",
              "      <th>2</th>\n",
              "      <td>65</td>\n",
              "      <td>0.25</td>\n",
              "      <td>AI is cleverer than human beings. AI can do be...</td>\n",
              "    </tr>\n",
              "    <tr>\n",
              "      <th>3</th>\n",
              "      <td>66</td>\n",
              "      <td>0.230769231</td>\n",
              "      <td>AI is more consistent when it comes to doing r...</td>\n",
              "    </tr>\n",
              "    <tr>\n",
              "      <th>4</th>\n",
              "      <td>80</td>\n",
              "      <td>0.642857143</td>\n",
              "      <td>According to the United States Department of T...</td>\n",
              "    </tr>\n",
              "    <tr>\n",
              "      <th>...</th>\n",
              "      <td>...</td>\n",
              "      <td>...</td>\n",
              "      <td>...</td>\n",
              "    </tr>\n",
              "    <tr>\n",
              "      <th>5312</th>\n",
              "      <td>5252</td>\n",
              "      <td>0.235294118</td>\n",
              "      <td>it is moral to eat meat as animals are less de...</td>\n",
              "    </tr>\n",
              "    <tr>\n",
              "      <th>5313</th>\n",
              "      <td>5277</td>\n",
              "      <td>0.736842105</td>\n",
              "      <td>meat is a necessary component of a human's die...</td>\n",
              "    </tr>\n",
              "    <tr>\n",
              "      <th>5314</th>\n",
              "      <td>5278</td>\n",
              "      <td>0.333333333</td>\n",
              "      <td>meat substitutes like vitamins and soy product...</td>\n",
              "    </tr>\n",
              "    <tr>\n",
              "      <th>5315</th>\n",
              "      <td>5379</td>\n",
              "      <td>0.181818182</td>\n",
              "      <td>some people will loose the joy in eating. a jo...</td>\n",
              "    </tr>\n",
              "    <tr>\n",
              "      <th>5316</th>\n",
              "      <td>5401</td>\n",
              "      <td>0.588235294</td>\n",
              "      <td>the meat industry employs a lot of people who ...</td>\n",
              "    </tr>\n",
              "  </tbody>\n",
              "</table>\n",
              "<p>5317 rows × 3 columns</p>\n",
              "</div>\n",
              "      <button class=\"colab-df-convert\" onclick=\"convertToInteractive('df-863d089e-2c07-4c3a-bdd7-60ea6bf2d398')\"\n",
              "              title=\"Convert this dataframe to an interactive table.\"\n",
              "              style=\"display:none;\">\n",
              "        \n",
              "  <svg xmlns=\"http://www.w3.org/2000/svg\" height=\"24px\"viewBox=\"0 0 24 24\"\n",
              "       width=\"24px\">\n",
              "    <path d=\"M0 0h24v24H0V0z\" fill=\"none\"/>\n",
              "    <path d=\"M18.56 5.44l.94 2.06.94-2.06 2.06-.94-2.06-.94-.94-2.06-.94 2.06-2.06.94zm-11 1L8.5 8.5l.94-2.06 2.06-.94-2.06-.94L8.5 2.5l-.94 2.06-2.06.94zm10 10l.94 2.06.94-2.06 2.06-.94-2.06-.94-.94-2.06-.94 2.06-2.06.94z\"/><path d=\"M17.41 7.96l-1.37-1.37c-.4-.4-.92-.59-1.43-.59-.52 0-1.04.2-1.43.59L10.3 9.45l-7.72 7.72c-.78.78-.78 2.05 0 2.83L4 21.41c.39.39.9.59 1.41.59.51 0 1.02-.2 1.41-.59l7.78-7.78 2.81-2.81c.8-.78.8-2.07 0-2.86zM5.41 20L4 18.59l7.72-7.72 1.47 1.35L5.41 20z\"/>\n",
              "  </svg>\n",
              "      </button>\n",
              "      \n",
              "  <style>\n",
              "    .colab-df-container {\n",
              "      display:flex;\n",
              "      flex-wrap:wrap;\n",
              "      gap: 12px;\n",
              "    }\n",
              "\n",
              "    .colab-df-convert {\n",
              "      background-color: #E8F0FE;\n",
              "      border: none;\n",
              "      border-radius: 50%;\n",
              "      cursor: pointer;\n",
              "      display: none;\n",
              "      fill: #1967D2;\n",
              "      height: 32px;\n",
              "      padding: 0 0 0 0;\n",
              "      width: 32px;\n",
              "    }\n",
              "\n",
              "    .colab-df-convert:hover {\n",
              "      background-color: #E2EBFA;\n",
              "      box-shadow: 0px 1px 2px rgba(60, 64, 67, 0.3), 0px 1px 3px 1px rgba(60, 64, 67, 0.15);\n",
              "      fill: #174EA6;\n",
              "    }\n",
              "\n",
              "    [theme=dark] .colab-df-convert {\n",
              "      background-color: #3B4455;\n",
              "      fill: #D2E3FC;\n",
              "    }\n",
              "\n",
              "    [theme=dark] .colab-df-convert:hover {\n",
              "      background-color: #434B5C;\n",
              "      box-shadow: 0px 1px 3px 1px rgba(0, 0, 0, 0.15);\n",
              "      filter: drop-shadow(0px 1px 2px rgba(0, 0, 0, 0.3));\n",
              "      fill: #FFFFFF;\n",
              "    }\n",
              "  </style>\n",
              "\n",
              "      <script>\n",
              "        const buttonEl =\n",
              "          document.querySelector('#df-863d089e-2c07-4c3a-bdd7-60ea6bf2d398 button.colab-df-convert');\n",
              "        buttonEl.style.display =\n",
              "          google.colab.kernel.accessAllowed ? 'block' : 'none';\n",
              "\n",
              "        async function convertToInteractive(key) {\n",
              "          const element = document.querySelector('#df-863d089e-2c07-4c3a-bdd7-60ea6bf2d398');\n",
              "          const dataTable =\n",
              "            await google.colab.kernel.invokeFunction('convertToInteractive',\n",
              "                                                     [key], {});\n",
              "          if (!dataTable) return;\n",
              "\n",
              "          const docLinkHtml = 'Like what you see? Visit the ' +\n",
              "            '<a target=\"_blank\" href=https://colab.research.google.com/notebooks/data_table.ipynb>data table notebook</a>'\n",
              "            + ' to learn more about interactive tables.';\n",
              "          element.innerHTML = '';\n",
              "          dataTable['output_type'] = 'display_data';\n",
              "          await google.colab.output.renderOutput(dataTable, element);\n",
              "          const docLink = document.createElement('div');\n",
              "          docLink.innerHTML = docLinkHtml;\n",
              "          element.appendChild(docLink);\n",
              "        }\n",
              "      </script>\n",
              "    </div>\n",
              "  </div>\n",
              "  "
            ],
            "text/plain": [
              "        id         rank                                           argument\n",
              "0       22        0.625  90% of traffic accidents are due (at least par...\n",
              "1       43          0.8  A large part of the inefficiencies of vehicles...\n",
              "2       65         0.25  AI is cleverer than human beings. AI can do be...\n",
              "3       66  0.230769231  AI is more consistent when it comes to doing r...\n",
              "4       80  0.642857143  According to the United States Department of T...\n",
              "...    ...          ...                                                ...\n",
              "5312  5252  0.235294118  it is moral to eat meat as animals are less de...\n",
              "5313  5277  0.736842105  meat is a necessary component of a human's die...\n",
              "5314  5278  0.333333333  meat substitutes like vitamins and soy product...\n",
              "5315  5379  0.181818182  some people will loose the joy in eating. a jo...\n",
              "5316  5401  0.588235294  the meat industry employs a lot of people who ...\n",
              "\n",
              "[5317 rows x 3 columns]"
            ]
          },
          "metadata": {},
          "execution_count": 16
        }
      ]
    },
    {
      "cell_type": "code",
      "source": [
        "len(df)"
      ],
      "metadata": {
        "colab": {
          "base_uri": "https://localhost:8080/"
        },
        "id": "LYnsqe1eCfUP",
        "outputId": "79921738-5573-436d-d67c-aee19cd9c74d"
      },
      "execution_count": 17,
      "outputs": [
        {
          "output_type": "execute_result",
          "data": {
            "text/plain": [
              "5317"
            ]
          },
          "metadata": {},
          "execution_count": 17
        }
      ]
    },
    {
      "cell_type": "code",
      "source": [
        "len(list(set(df['id'])))"
      ],
      "metadata": {
        "colab": {
          "base_uri": "https://localhost:8080/"
        },
        "id": "PDBm7VEVD5_y",
        "outputId": "42e15cf6-985e-48d6-c439-78dbb7c1b951"
      },
      "execution_count": 18,
      "outputs": [
        {
          "output_type": "execute_result",
          "data": {
            "text/plain": [
              "5299"
            ]
          },
          "metadata": {},
          "execution_count": 18
        }
      ]
    },
    {
      "cell_type": "code",
      "source": [
        "df.drop_duplicates(keep=False,inplace=True)"
      ],
      "metadata": {
        "id": "9XrgCMVUEFYM"
      },
      "execution_count": 19,
      "outputs": []
    },
    {
      "cell_type": "code",
      "source": [
        "df"
      ],
      "metadata": {
        "colab": {
          "base_uri": "https://localhost:8080/",
          "height": 424
        },
        "id": "RN71ztWZEfM7",
        "outputId": "23753e01-c856-4e67-bd77-5ffda9704399"
      },
      "execution_count": 20,
      "outputs": [
        {
          "output_type": "execute_result",
          "data": {
            "text/html": [
              "\n",
              "  <div id=\"df-80870f01-7a82-4ff6-bc60-4a98fccdf24e\">\n",
              "    <div class=\"colab-df-container\">\n",
              "      <div>\n",
              "<style scoped>\n",
              "    .dataframe tbody tr th:only-of-type {\n",
              "        vertical-align: middle;\n",
              "    }\n",
              "\n",
              "    .dataframe tbody tr th {\n",
              "        vertical-align: top;\n",
              "    }\n",
              "\n",
              "    .dataframe thead th {\n",
              "        text-align: right;\n",
              "    }\n",
              "</style>\n",
              "<table border=\"1\" class=\"dataframe\">\n",
              "  <thead>\n",
              "    <tr style=\"text-align: right;\">\n",
              "      <th></th>\n",
              "      <th>id</th>\n",
              "      <th>rank</th>\n",
              "      <th>argument</th>\n",
              "    </tr>\n",
              "  </thead>\n",
              "  <tbody>\n",
              "    <tr>\n",
              "      <th>0</th>\n",
              "      <td>22</td>\n",
              "      <td>0.625</td>\n",
              "      <td>90% of traffic accidents are due (at least par...</td>\n",
              "    </tr>\n",
              "    <tr>\n",
              "      <th>1</th>\n",
              "      <td>43</td>\n",
              "      <td>0.8</td>\n",
              "      <td>A large part of the inefficiencies of vehicles...</td>\n",
              "    </tr>\n",
              "    <tr>\n",
              "      <th>2</th>\n",
              "      <td>65</td>\n",
              "      <td>0.25</td>\n",
              "      <td>AI is cleverer than human beings. AI can do be...</td>\n",
              "    </tr>\n",
              "    <tr>\n",
              "      <th>3</th>\n",
              "      <td>66</td>\n",
              "      <td>0.230769231</td>\n",
              "      <td>AI is more consistent when it comes to doing r...</td>\n",
              "    </tr>\n",
              "    <tr>\n",
              "      <th>4</th>\n",
              "      <td>80</td>\n",
              "      <td>0.642857143</td>\n",
              "      <td>According to the United States Department of T...</td>\n",
              "    </tr>\n",
              "    <tr>\n",
              "      <th>...</th>\n",
              "      <td>...</td>\n",
              "      <td>...</td>\n",
              "      <td>...</td>\n",
              "    </tr>\n",
              "    <tr>\n",
              "      <th>5312</th>\n",
              "      <td>5252</td>\n",
              "      <td>0.235294118</td>\n",
              "      <td>it is moral to eat meat as animals are less de...</td>\n",
              "    </tr>\n",
              "    <tr>\n",
              "      <th>5313</th>\n",
              "      <td>5277</td>\n",
              "      <td>0.736842105</td>\n",
              "      <td>meat is a necessary component of a human's die...</td>\n",
              "    </tr>\n",
              "    <tr>\n",
              "      <th>5314</th>\n",
              "      <td>5278</td>\n",
              "      <td>0.333333333</td>\n",
              "      <td>meat substitutes like vitamins and soy product...</td>\n",
              "    </tr>\n",
              "    <tr>\n",
              "      <th>5315</th>\n",
              "      <td>5379</td>\n",
              "      <td>0.181818182</td>\n",
              "      <td>some people will loose the joy in eating. a jo...</td>\n",
              "    </tr>\n",
              "    <tr>\n",
              "      <th>5316</th>\n",
              "      <td>5401</td>\n",
              "      <td>0.588235294</td>\n",
              "      <td>the meat industry employs a lot of people who ...</td>\n",
              "    </tr>\n",
              "  </tbody>\n",
              "</table>\n",
              "<p>5298 rows × 3 columns</p>\n",
              "</div>\n",
              "      <button class=\"colab-df-convert\" onclick=\"convertToInteractive('df-80870f01-7a82-4ff6-bc60-4a98fccdf24e')\"\n",
              "              title=\"Convert this dataframe to an interactive table.\"\n",
              "              style=\"display:none;\">\n",
              "        \n",
              "  <svg xmlns=\"http://www.w3.org/2000/svg\" height=\"24px\"viewBox=\"0 0 24 24\"\n",
              "       width=\"24px\">\n",
              "    <path d=\"M0 0h24v24H0V0z\" fill=\"none\"/>\n",
              "    <path d=\"M18.56 5.44l.94 2.06.94-2.06 2.06-.94-2.06-.94-.94-2.06-.94 2.06-2.06.94zm-11 1L8.5 8.5l.94-2.06 2.06-.94-2.06-.94L8.5 2.5l-.94 2.06-2.06.94zm10 10l.94 2.06.94-2.06 2.06-.94-2.06-.94-.94-2.06-.94 2.06-2.06.94z\"/><path d=\"M17.41 7.96l-1.37-1.37c-.4-.4-.92-.59-1.43-.59-.52 0-1.04.2-1.43.59L10.3 9.45l-7.72 7.72c-.78.78-.78 2.05 0 2.83L4 21.41c.39.39.9.59 1.41.59.51 0 1.02-.2 1.41-.59l7.78-7.78 2.81-2.81c.8-.78.8-2.07 0-2.86zM5.41 20L4 18.59l7.72-7.72 1.47 1.35L5.41 20z\"/>\n",
              "  </svg>\n",
              "      </button>\n",
              "      \n",
              "  <style>\n",
              "    .colab-df-container {\n",
              "      display:flex;\n",
              "      flex-wrap:wrap;\n",
              "      gap: 12px;\n",
              "    }\n",
              "\n",
              "    .colab-df-convert {\n",
              "      background-color: #E8F0FE;\n",
              "      border: none;\n",
              "      border-radius: 50%;\n",
              "      cursor: pointer;\n",
              "      display: none;\n",
              "      fill: #1967D2;\n",
              "      height: 32px;\n",
              "      padding: 0 0 0 0;\n",
              "      width: 32px;\n",
              "    }\n",
              "\n",
              "    .colab-df-convert:hover {\n",
              "      background-color: #E2EBFA;\n",
              "      box-shadow: 0px 1px 2px rgba(60, 64, 67, 0.3), 0px 1px 3px 1px rgba(60, 64, 67, 0.15);\n",
              "      fill: #174EA6;\n",
              "    }\n",
              "\n",
              "    [theme=dark] .colab-df-convert {\n",
              "      background-color: #3B4455;\n",
              "      fill: #D2E3FC;\n",
              "    }\n",
              "\n",
              "    [theme=dark] .colab-df-convert:hover {\n",
              "      background-color: #434B5C;\n",
              "      box-shadow: 0px 1px 3px 1px rgba(0, 0, 0, 0.15);\n",
              "      filter: drop-shadow(0px 1px 2px rgba(0, 0, 0, 0.3));\n",
              "      fill: #FFFFFF;\n",
              "    }\n",
              "  </style>\n",
              "\n",
              "      <script>\n",
              "        const buttonEl =\n",
              "          document.querySelector('#df-80870f01-7a82-4ff6-bc60-4a98fccdf24e button.colab-df-convert');\n",
              "        buttonEl.style.display =\n",
              "          google.colab.kernel.accessAllowed ? 'block' : 'none';\n",
              "\n",
              "        async function convertToInteractive(key) {\n",
              "          const element = document.querySelector('#df-80870f01-7a82-4ff6-bc60-4a98fccdf24e');\n",
              "          const dataTable =\n",
              "            await google.colab.kernel.invokeFunction('convertToInteractive',\n",
              "                                                     [key], {});\n",
              "          if (!dataTable) return;\n",
              "\n",
              "          const docLinkHtml = 'Like what you see? Visit the ' +\n",
              "            '<a target=\"_blank\" href=https://colab.research.google.com/notebooks/data_table.ipynb>data table notebook</a>'\n",
              "            + ' to learn more about interactive tables.';\n",
              "          element.innerHTML = '';\n",
              "          dataTable['output_type'] = 'display_data';\n",
              "          await google.colab.output.renderOutput(dataTable, element);\n",
              "          const docLink = document.createElement('div');\n",
              "          docLink.innerHTML = docLinkHtml;\n",
              "          element.appendChild(docLink);\n",
              "        }\n",
              "      </script>\n",
              "    </div>\n",
              "  </div>\n",
              "  "
            ],
            "text/plain": [
              "        id         rank                                           argument\n",
              "0       22        0.625  90% of traffic accidents are due (at least par...\n",
              "1       43          0.8  A large part of the inefficiencies of vehicles...\n",
              "2       65         0.25  AI is cleverer than human beings. AI can do be...\n",
              "3       66  0.230769231  AI is more consistent when it comes to doing r...\n",
              "4       80  0.642857143  According to the United States Department of T...\n",
              "...    ...          ...                                                ...\n",
              "5312  5252  0.235294118  it is moral to eat meat as animals are less de...\n",
              "5313  5277  0.736842105  meat is a necessary component of a human's die...\n",
              "5314  5278  0.333333333  meat substitutes like vitamins and soy product...\n",
              "5315  5379  0.181818182  some people will loose the joy in eating. a jo...\n",
              "5316  5401  0.588235294  the meat industry employs a lot of people who ...\n",
              "\n",
              "[5298 rows x 3 columns]"
            ]
          },
          "metadata": {},
          "execution_count": 20
        }
      ]
    },
    {
      "cell_type": "code",
      "source": [
        "arg = df['argument']"
      ],
      "metadata": {
        "id": "5WrWycdwEo4n"
      },
      "execution_count": 21,
      "outputs": []
    },
    {
      "cell_type": "code",
      "source": [
        "scores = df['rank']"
      ],
      "metadata": {
        "id": "uqzV2u52Lp-T"
      },
      "execution_count": 22,
      "outputs": []
    },
    {
      "cell_type": "code",
      "source": [
        "df.reset_index(inplace=True)"
      ],
      "metadata": {
        "id": "8TrndYF9MNKz"
      },
      "execution_count": 23,
      "outputs": []
    },
    {
      "cell_type": "code",
      "source": [
        "df"
      ],
      "metadata": {
        "colab": {
          "base_uri": "https://localhost:8080/",
          "height": 424
        },
        "id": "HJab-xrBMgbe",
        "outputId": "38faf05b-728e-4830-8f2d-3b41b7e07b11"
      },
      "execution_count": 24,
      "outputs": [
        {
          "output_type": "execute_result",
          "data": {
            "text/html": [
              "\n",
              "  <div id=\"df-e13d5d8a-643a-4223-bdb8-c565f81b8fd0\">\n",
              "    <div class=\"colab-df-container\">\n",
              "      <div>\n",
              "<style scoped>\n",
              "    .dataframe tbody tr th:only-of-type {\n",
              "        vertical-align: middle;\n",
              "    }\n",
              "\n",
              "    .dataframe tbody tr th {\n",
              "        vertical-align: top;\n",
              "    }\n",
              "\n",
              "    .dataframe thead th {\n",
              "        text-align: right;\n",
              "    }\n",
              "</style>\n",
              "<table border=\"1\" class=\"dataframe\">\n",
              "  <thead>\n",
              "    <tr style=\"text-align: right;\">\n",
              "      <th></th>\n",
              "      <th>index</th>\n",
              "      <th>id</th>\n",
              "      <th>rank</th>\n",
              "      <th>argument</th>\n",
              "    </tr>\n",
              "  </thead>\n",
              "  <tbody>\n",
              "    <tr>\n",
              "      <th>0</th>\n",
              "      <td>0</td>\n",
              "      <td>22</td>\n",
              "      <td>0.625</td>\n",
              "      <td>90% of traffic accidents are due (at least par...</td>\n",
              "    </tr>\n",
              "    <tr>\n",
              "      <th>1</th>\n",
              "      <td>1</td>\n",
              "      <td>43</td>\n",
              "      <td>0.8</td>\n",
              "      <td>A large part of the inefficiencies of vehicles...</td>\n",
              "    </tr>\n",
              "    <tr>\n",
              "      <th>2</th>\n",
              "      <td>2</td>\n",
              "      <td>65</td>\n",
              "      <td>0.25</td>\n",
              "      <td>AI is cleverer than human beings. AI can do be...</td>\n",
              "    </tr>\n",
              "    <tr>\n",
              "      <th>3</th>\n",
              "      <td>3</td>\n",
              "      <td>66</td>\n",
              "      <td>0.230769231</td>\n",
              "      <td>AI is more consistent when it comes to doing r...</td>\n",
              "    </tr>\n",
              "    <tr>\n",
              "      <th>4</th>\n",
              "      <td>4</td>\n",
              "      <td>80</td>\n",
              "      <td>0.642857143</td>\n",
              "      <td>According to the United States Department of T...</td>\n",
              "    </tr>\n",
              "    <tr>\n",
              "      <th>...</th>\n",
              "      <td>...</td>\n",
              "      <td>...</td>\n",
              "      <td>...</td>\n",
              "      <td>...</td>\n",
              "    </tr>\n",
              "    <tr>\n",
              "      <th>5293</th>\n",
              "      <td>5312</td>\n",
              "      <td>5252</td>\n",
              "      <td>0.235294118</td>\n",
              "      <td>it is moral to eat meat as animals are less de...</td>\n",
              "    </tr>\n",
              "    <tr>\n",
              "      <th>5294</th>\n",
              "      <td>5313</td>\n",
              "      <td>5277</td>\n",
              "      <td>0.736842105</td>\n",
              "      <td>meat is a necessary component of a human's die...</td>\n",
              "    </tr>\n",
              "    <tr>\n",
              "      <th>5295</th>\n",
              "      <td>5314</td>\n",
              "      <td>5278</td>\n",
              "      <td>0.333333333</td>\n",
              "      <td>meat substitutes like vitamins and soy product...</td>\n",
              "    </tr>\n",
              "    <tr>\n",
              "      <th>5296</th>\n",
              "      <td>5315</td>\n",
              "      <td>5379</td>\n",
              "      <td>0.181818182</td>\n",
              "      <td>some people will loose the joy in eating. a jo...</td>\n",
              "    </tr>\n",
              "    <tr>\n",
              "      <th>5297</th>\n",
              "      <td>5316</td>\n",
              "      <td>5401</td>\n",
              "      <td>0.588235294</td>\n",
              "      <td>the meat industry employs a lot of people who ...</td>\n",
              "    </tr>\n",
              "  </tbody>\n",
              "</table>\n",
              "<p>5298 rows × 4 columns</p>\n",
              "</div>\n",
              "      <button class=\"colab-df-convert\" onclick=\"convertToInteractive('df-e13d5d8a-643a-4223-bdb8-c565f81b8fd0')\"\n",
              "              title=\"Convert this dataframe to an interactive table.\"\n",
              "              style=\"display:none;\">\n",
              "        \n",
              "  <svg xmlns=\"http://www.w3.org/2000/svg\" height=\"24px\"viewBox=\"0 0 24 24\"\n",
              "       width=\"24px\">\n",
              "    <path d=\"M0 0h24v24H0V0z\" fill=\"none\"/>\n",
              "    <path d=\"M18.56 5.44l.94 2.06.94-2.06 2.06-.94-2.06-.94-.94-2.06-.94 2.06-2.06.94zm-11 1L8.5 8.5l.94-2.06 2.06-.94-2.06-.94L8.5 2.5l-.94 2.06-2.06.94zm10 10l.94 2.06.94-2.06 2.06-.94-2.06-.94-.94-2.06-.94 2.06-2.06.94z\"/><path d=\"M17.41 7.96l-1.37-1.37c-.4-.4-.92-.59-1.43-.59-.52 0-1.04.2-1.43.59L10.3 9.45l-7.72 7.72c-.78.78-.78 2.05 0 2.83L4 21.41c.39.39.9.59 1.41.59.51 0 1.02-.2 1.41-.59l7.78-7.78 2.81-2.81c.8-.78.8-2.07 0-2.86zM5.41 20L4 18.59l7.72-7.72 1.47 1.35L5.41 20z\"/>\n",
              "  </svg>\n",
              "      </button>\n",
              "      \n",
              "  <style>\n",
              "    .colab-df-container {\n",
              "      display:flex;\n",
              "      flex-wrap:wrap;\n",
              "      gap: 12px;\n",
              "    }\n",
              "\n",
              "    .colab-df-convert {\n",
              "      background-color: #E8F0FE;\n",
              "      border: none;\n",
              "      border-radius: 50%;\n",
              "      cursor: pointer;\n",
              "      display: none;\n",
              "      fill: #1967D2;\n",
              "      height: 32px;\n",
              "      padding: 0 0 0 0;\n",
              "      width: 32px;\n",
              "    }\n",
              "\n",
              "    .colab-df-convert:hover {\n",
              "      background-color: #E2EBFA;\n",
              "      box-shadow: 0px 1px 2px rgba(60, 64, 67, 0.3), 0px 1px 3px 1px rgba(60, 64, 67, 0.15);\n",
              "      fill: #174EA6;\n",
              "    }\n",
              "\n",
              "    [theme=dark] .colab-df-convert {\n",
              "      background-color: #3B4455;\n",
              "      fill: #D2E3FC;\n",
              "    }\n",
              "\n",
              "    [theme=dark] .colab-df-convert:hover {\n",
              "      background-color: #434B5C;\n",
              "      box-shadow: 0px 1px 3px 1px rgba(0, 0, 0, 0.15);\n",
              "      filter: drop-shadow(0px 1px 2px rgba(0, 0, 0, 0.3));\n",
              "      fill: #FFFFFF;\n",
              "    }\n",
              "  </style>\n",
              "\n",
              "      <script>\n",
              "        const buttonEl =\n",
              "          document.querySelector('#df-e13d5d8a-643a-4223-bdb8-c565f81b8fd0 button.colab-df-convert');\n",
              "        buttonEl.style.display =\n",
              "          google.colab.kernel.accessAllowed ? 'block' : 'none';\n",
              "\n",
              "        async function convertToInteractive(key) {\n",
              "          const element = document.querySelector('#df-e13d5d8a-643a-4223-bdb8-c565f81b8fd0');\n",
              "          const dataTable =\n",
              "            await google.colab.kernel.invokeFunction('convertToInteractive',\n",
              "                                                     [key], {});\n",
              "          if (!dataTable) return;\n",
              "\n",
              "          const docLinkHtml = 'Like what you see? Visit the ' +\n",
              "            '<a target=\"_blank\" href=https://colab.research.google.com/notebooks/data_table.ipynb>data table notebook</a>'\n",
              "            + ' to learn more about interactive tables.';\n",
              "          element.innerHTML = '';\n",
              "          dataTable['output_type'] = 'display_data';\n",
              "          await google.colab.output.renderOutput(dataTable, element);\n",
              "          const docLink = document.createElement('div');\n",
              "          docLink.innerHTML = docLinkHtml;\n",
              "          element.appendChild(docLink);\n",
              "        }\n",
              "      </script>\n",
              "    </div>\n",
              "  </div>\n",
              "  "
            ],
            "text/plain": [
              "      index  ...                                           argument\n",
              "0         0  ...  90% of traffic accidents are due (at least par...\n",
              "1         1  ...  A large part of the inefficiencies of vehicles...\n",
              "2         2  ...  AI is cleverer than human beings. AI can do be...\n",
              "3         3  ...  AI is more consistent when it comes to doing r...\n",
              "4         4  ...  According to the United States Department of T...\n",
              "...     ...  ...                                                ...\n",
              "5293   5312  ...  it is moral to eat meat as animals are less de...\n",
              "5294   5313  ...  meat is a necessary component of a human's die...\n",
              "5295   5314  ...  meat substitutes like vitamins and soy product...\n",
              "5296   5315  ...  some people will loose the joy in eating. a jo...\n",
              "5297   5316  ...  the meat industry employs a lot of people who ...\n",
              "\n",
              "[5298 rows x 4 columns]"
            ]
          },
          "metadata": {},
          "execution_count": 24
        }
      ]
    },
    {
      "cell_type": "code",
      "source": [
        "argm = []\n",
        "for i in range(len(df)):\n",
        "  argm.append(final(df['argument'][i]))"
      ],
      "metadata": {
        "id": "O_OooPlzFzeL"
      },
      "execution_count": 25,
      "outputs": []
    },
    {
      "cell_type": "code",
      "source": [
        "len(argm)"
      ],
      "metadata": {
        "colab": {
          "base_uri": "https://localhost:8080/"
        },
        "id": "HdwtLvRczRtJ",
        "outputId": "9a51d02c-7ad3-484a-e0da-18bc4d64a18f"
      },
      "execution_count": 26,
      "outputs": [
        {
          "output_type": "execute_result",
          "data": {
            "text/plain": [
              "5298"
            ]
          },
          "metadata": {},
          "execution_count": 26
        }
      ]
    },
    {
      "cell_type": "code",
      "source": [
        "y = scores\n",
        "y = [float(x) for x in y ]\n",
        "y = [np.array(x) for x in y ]"
      ],
      "metadata": {
        "id": "xBdahw6IzXWR"
      },
      "execution_count": 27,
      "outputs": []
    },
    {
      "cell_type": "code",
      "source": [
        "len(y)"
      ],
      "metadata": {
        "colab": {
          "base_uri": "https://localhost:8080/"
        },
        "id": "4d-cVJNg3RPj",
        "outputId": "f0af41a2-6c46-41d7-9321-1e43ff5f771d"
      },
      "execution_count": 28,
      "outputs": [
        {
          "output_type": "execute_result",
          "data": {
            "text/plain": [
              "5298"
            ]
          },
          "metadata": {},
          "execution_count": 28
        }
      ]
    },
    {
      "cell_type": "code",
      "source": [
        "X = argm"
      ],
      "metadata": {
        "id": "3vgEzg2W3Rze"
      },
      "execution_count": 29,
      "outputs": []
    },
    {
      "cell_type": "code",
      "source": [
        "X[1]"
      ],
      "metadata": {
        "colab": {
          "base_uri": "https://localhost:8080/"
        },
        "id": "yMMdjcB4Sa5T",
        "outputId": "385de4b7-9d34-4137-fc82-b787354f7514"
      },
      "execution_count": 30,
      "outputs": [
        {
          "output_type": "execute_result",
          "data": {
            "text/plain": [
              "tensor([[-0.2307, -0.0077,  0.3101,  ..., -0.5030,  0.0746,  0.2134]])"
            ]
          },
          "metadata": {},
          "execution_count": 30
        }
      ]
    },
    {
      "cell_type": "code",
      "source": [
        "X = [X[i][0] for i in range(len(X))]"
      ],
      "metadata": {
        "id": "f0-vnFU43Xss"
      },
      "execution_count": 31,
      "outputs": []
    },
    {
      "cell_type": "code",
      "source": [
        "X[0]"
      ],
      "metadata": {
        "colab": {
          "base_uri": "https://localhost:8080/"
        },
        "id": "EZS6wLHr3Xql",
        "outputId": "28d0084f-b634-4bff-ebe5-20206bd3ea8f"
      },
      "execution_count": 32,
      "outputs": [
        {
          "output_type": "execute_result",
          "data": {
            "text/plain": [
              "tensor([ 0.1228,  0.0097,  0.3688,  ..., -0.2915,  0.1532,  0.0523])"
            ]
          },
          "metadata": {},
          "execution_count": 32
        }
      ]
    },
    {
      "cell_type": "code",
      "source": [
        "X = [t.numpy() for t in X]"
      ],
      "metadata": {
        "id": "hE1OsX4zhF71"
      },
      "execution_count": 33,
      "outputs": []
    },
    {
      "cell_type": "code",
      "source": [
        "X[0]"
      ],
      "metadata": {
        "colab": {
          "base_uri": "https://localhost:8080/"
        },
        "id": "kGRQv62ZhKKI",
        "outputId": "5bf1319f-340b-4998-fe49-7ac23e747385"
      },
      "execution_count": 34,
      "outputs": [
        {
          "output_type": "execute_result",
          "data": {
            "text/plain": [
              "array([ 0.12275673,  0.00967564,  0.36876333, ..., -0.29147962,\n",
              "        0.15319403,  0.05232434], dtype=float32)"
            ]
          },
          "metadata": {},
          "execution_count": 34
        }
      ]
    },
    {
      "cell_type": "code",
      "source": [
        "X = np.array(X)"
      ],
      "metadata": {
        "id": "_MmfXpRoiSoB"
      },
      "execution_count": 35,
      "outputs": []
    },
    {
      "cell_type": "code",
      "source": [
        "X"
      ],
      "metadata": {
        "colab": {
          "base_uri": "https://localhost:8080/"
        },
        "id": "5pA_A9g6iY8M",
        "outputId": "0b1adb0f-c84c-4e6a-e092-6b53f9874224"
      },
      "execution_count": 36,
      "outputs": [
        {
          "output_type": "execute_result",
          "data": {
            "text/plain": [
              "array([[ 0.12275673,  0.00967564,  0.36876333, ..., -0.29147962,\n",
              "         0.15319403,  0.05232434],\n",
              "       [-0.23070434, -0.00772764,  0.31014228, ..., -0.50298125,\n",
              "         0.07459059,  0.21336383],\n",
              "       [ 0.14991984,  0.100587  ,  0.0375925 , ..., -0.32052281,\n",
              "         0.27706704,  0.10051783],\n",
              "       ...,\n",
              "       [ 0.34920967,  0.38980222, -0.2425646 , ..., -0.39427277,\n",
              "        -0.14810982, -0.2481087 ],\n",
              "       [ 0.07964652,  0.03577435,  0.22772433, ..., -0.43527249,\n",
              "         0.08850057, -0.16459489],\n",
              "       [ 0.40399274,  0.1194367 ,  0.15534543, ..., -0.33160922,\n",
              "         0.41247615, -0.30330965]], dtype=float32)"
            ]
          },
          "metadata": {},
          "execution_count": 36
        }
      ]
    },
    {
      "cell_type": "code",
      "source": [
        "y = np.array(y)"
      ],
      "metadata": {
        "id": "jDtcU_9IhQXp"
      },
      "execution_count": 37,
      "outputs": []
    },
    {
      "cell_type": "code",
      "source": [
        "y"
      ],
      "metadata": {
        "colab": {
          "base_uri": "https://localhost:8080/"
        },
        "id": "ZpNXdHQ3ifC7",
        "outputId": "6876bd32-00f5-4287-d399-3965f4c0c46b"
      },
      "execution_count": 38,
      "outputs": [
        {
          "output_type": "execute_result",
          "data": {
            "text/plain": [
              "array([0.625     , 0.8       , 0.25      , ..., 0.33333333, 0.18181818,\n",
              "       0.58823529])"
            ]
          },
          "metadata": {},
          "execution_count": 38
        }
      ]
    },
    {
      "cell_type": "code",
      "source": [
        "# Data visualization\n",
        "import matplotlib.pyplot as plt\n",
        "import seaborn as sns\n",
        "import numpy as np\n",
        "import pandas as pd \n",
        "import seaborn as sns\n",
        "# Keras\n",
        "from keras.models import Sequential\n",
        "from keras.layers import Dense\n",
        "from tensorflow.keras.optimizers import SGD, Adam, Adadelta, RMSprop\n",
        "#from keras.optimizers import SGD, Adam, Adadelta, RMSprop\n",
        "import keras.backend as K\n",
        "# Train-Test\n",
        "from sklearn.model_selection import train_test_split\n",
        "# Scaling data\n",
        "from sklearn.preprocessing import StandardScaler\n",
        "# Classification Report\n",
        "from sklearn.metrics import classification_report"
      ],
      "metadata": {
        "id": "tH0v_kF8hQVX"
      },
      "execution_count": 39,
      "outputs": []
    },
    {
      "cell_type": "code",
      "source": [
        "from tensorflow.keras.layers import Dense"
      ],
      "metadata": {
        "id": "IexLbEQ-hQSX"
      },
      "execution_count": 40,
      "outputs": []
    },
    {
      "cell_type": "code",
      "source": [
        "model = Sequential()\n",
        "model.add(Dense(300, input_shape = (3072,), activation = \"relu\"))\n",
        "#model.add(Dropout(0.2))\n",
        "model.add(Dense(1, activation = \"sigmoid\"))\n",
        "model.compile(Adam(learning_rate = 1e-7), \"mean_squared_error\", metrics = [\"accuracy\"])\n",
        "model.summary()"
      ],
      "metadata": {
        "colab": {
          "base_uri": "https://localhost:8080/"
        },
        "id": "nF7xShyUhQPz",
        "outputId": "8958de4b-b720-44f8-cc92-7669b44b5061"
      },
      "execution_count": 50,
      "outputs": [
        {
          "output_type": "stream",
          "name": "stdout",
          "text": [
            "Model: \"sequential_1\"\n",
            "_________________________________________________________________\n",
            " Layer (type)                Output Shape              Param #   \n",
            "=================================================================\n",
            " dense_2 (Dense)             (None, 300)               921900    \n",
            "                                                                 \n",
            " dense_3 (Dense)             (None, 1)                 301       \n",
            "                                                                 \n",
            "=================================================================\n",
            "Total params: 922,201\n",
            "Trainable params: 922,201\n",
            "Non-trainable params: 0\n",
            "_________________________________________________________________\n"
          ]
        }
      ]
    },
    {
      "cell_type": "code",
      "source": [
        "from sklearn.model_selection import train_test_split\n",
        "x_train, x_test, y_train, y_test = train_test_split(X, y, test_size=0.2)"
      ],
      "metadata": {
        "id": "sMRDLiRshQNB"
      },
      "execution_count": 51,
      "outputs": []
    },
    {
      "cell_type": "code",
      "source": [
        ""
      ],
      "metadata": {
        "id": "jz5WsL2diGoL"
      },
      "execution_count": null,
      "outputs": []
    },
    {
      "cell_type": "code",
      "source": [
        "model.fit(x_train, y_train, verbose=1, epochs=200)"
      ],
      "metadata": {
        "colab": {
          "base_uri": "https://localhost:8080/"
        },
        "id": "BY42empuhZCs",
        "outputId": "e01094d0-fab9-46df-eeea-bfe289712e3f"
      },
      "execution_count": 52,
      "outputs": [
        {
          "output_type": "stream",
          "name": "stdout",
          "text": [
            "Epoch 1/200\n",
            "133/133 [==============================] - 2s 14ms/step - loss: 0.0652 - accuracy: 0.0109\n",
            "Epoch 2/200\n",
            "133/133 [==============================] - 2s 13ms/step - loss: 0.0602 - accuracy: 0.0137\n",
            "Epoch 3/200\n",
            "133/133 [==============================] - 2s 12ms/step - loss: 0.0561 - accuracy: 0.0165\n",
            "Epoch 4/200\n",
            "133/133 [==============================] - 1s 9ms/step - loss: 0.0527 - accuracy: 0.0191\n",
            "Epoch 5/200\n",
            "133/133 [==============================] - 1s 9ms/step - loss: 0.0501 - accuracy: 0.0201\n",
            "Epoch 6/200\n",
            "133/133 [==============================] - 1s 9ms/step - loss: 0.0480 - accuracy: 0.0238\n",
            "Epoch 7/200\n",
            "133/133 [==============================] - 1s 9ms/step - loss: 0.0464 - accuracy: 0.0267\n",
            "Epoch 8/200\n",
            "133/133 [==============================] - 1s 9ms/step - loss: 0.0452 - accuracy: 0.0278\n",
            "Epoch 9/200\n",
            "133/133 [==============================] - 1s 9ms/step - loss: 0.0443 - accuracy: 0.0281\n",
            "Epoch 10/200\n",
            "133/133 [==============================] - 1s 9ms/step - loss: 0.0436 - accuracy: 0.0293\n",
            "Epoch 11/200\n",
            "133/133 [==============================] - 1s 9ms/step - loss: 0.0431 - accuracy: 0.0295\n",
            "Epoch 12/200\n",
            "133/133 [==============================] - 1s 9ms/step - loss: 0.0427 - accuracy: 0.0293\n",
            "Epoch 13/200\n",
            "133/133 [==============================] - 1s 9ms/step - loss: 0.0424 - accuracy: 0.0295\n",
            "Epoch 14/200\n",
            "133/133 [==============================] - 1s 9ms/step - loss: 0.0421 - accuracy: 0.0297\n",
            "Epoch 15/200\n",
            "133/133 [==============================] - 1s 9ms/step - loss: 0.0419 - accuracy: 0.0300\n",
            "Epoch 16/200\n",
            "133/133 [==============================] - 1s 9ms/step - loss: 0.0417 - accuracy: 0.0300\n",
            "Epoch 17/200\n",
            "133/133 [==============================] - 1s 9ms/step - loss: 0.0416 - accuracy: 0.0300\n",
            "Epoch 18/200\n",
            "133/133 [==============================] - 1s 9ms/step - loss: 0.0414 - accuracy: 0.0300\n",
            "Epoch 19/200\n",
            "133/133 [==============================] - 1s 9ms/step - loss: 0.0413 - accuracy: 0.0302\n",
            "Epoch 20/200\n",
            "133/133 [==============================] - 1s 9ms/step - loss: 0.0412 - accuracy: 0.0304\n",
            "Epoch 21/200\n",
            "133/133 [==============================] - 1s 9ms/step - loss: 0.0410 - accuracy: 0.0304\n",
            "Epoch 22/200\n",
            "133/133 [==============================] - 1s 9ms/step - loss: 0.0409 - accuracy: 0.0307\n",
            "Epoch 23/200\n",
            "133/133 [==============================] - 1s 9ms/step - loss: 0.0408 - accuracy: 0.0307\n",
            "Epoch 24/200\n",
            "133/133 [==============================] - 1s 9ms/step - loss: 0.0407 - accuracy: 0.0307\n",
            "Epoch 25/200\n",
            "133/133 [==============================] - 1s 9ms/step - loss: 0.0406 - accuracy: 0.0307\n",
            "Epoch 26/200\n",
            "133/133 [==============================] - 1s 9ms/step - loss: 0.0405 - accuracy: 0.0307\n",
            "Epoch 27/200\n",
            "133/133 [==============================] - 1s 9ms/step - loss: 0.0403 - accuracy: 0.0307\n",
            "Epoch 28/200\n",
            "133/133 [==============================] - 1s 9ms/step - loss: 0.0402 - accuracy: 0.0307\n",
            "Epoch 29/200\n",
            "133/133 [==============================] - 1s 9ms/step - loss: 0.0401 - accuracy: 0.0307\n",
            "Epoch 30/200\n",
            "133/133 [==============================] - 1s 9ms/step - loss: 0.0400 - accuracy: 0.0307\n",
            "Epoch 31/200\n",
            "133/133 [==============================] - 1s 9ms/step - loss: 0.0399 - accuracy: 0.0307\n",
            "Epoch 32/200\n",
            "133/133 [==============================] - 1s 9ms/step - loss: 0.0398 - accuracy: 0.0309\n",
            "Epoch 33/200\n",
            "133/133 [==============================] - 1s 9ms/step - loss: 0.0397 - accuracy: 0.0309\n",
            "Epoch 34/200\n",
            "133/133 [==============================] - 1s 9ms/step - loss: 0.0396 - accuracy: 0.0309\n",
            "Epoch 35/200\n",
            "133/133 [==============================] - 1s 9ms/step - loss: 0.0395 - accuracy: 0.0309\n",
            "Epoch 36/200\n",
            "133/133 [==============================] - 1s 9ms/step - loss: 0.0394 - accuracy: 0.0309\n",
            "Epoch 37/200\n",
            "133/133 [==============================] - 1s 9ms/step - loss: 0.0393 - accuracy: 0.0309\n",
            "Epoch 38/200\n",
            "133/133 [==============================] - 1s 9ms/step - loss: 0.0392 - accuracy: 0.0309\n",
            "Epoch 39/200\n",
            "133/133 [==============================] - 1s 9ms/step - loss: 0.0392 - accuracy: 0.0309\n",
            "Epoch 40/200\n",
            "133/133 [==============================] - 1s 9ms/step - loss: 0.0391 - accuracy: 0.0309\n",
            "Epoch 41/200\n",
            "133/133 [==============================] - 1s 9ms/step - loss: 0.0390 - accuracy: 0.0309\n",
            "Epoch 42/200\n",
            "133/133 [==============================] - 1s 9ms/step - loss: 0.0389 - accuracy: 0.0309\n",
            "Epoch 43/200\n",
            "133/133 [==============================] - 1s 9ms/step - loss: 0.0388 - accuracy: 0.0309\n",
            "Epoch 44/200\n",
            "133/133 [==============================] - 1s 9ms/step - loss: 0.0388 - accuracy: 0.0309\n",
            "Epoch 45/200\n",
            "133/133 [==============================] - 1s 9ms/step - loss: 0.0387 - accuracy: 0.0309\n",
            "Epoch 46/200\n",
            "133/133 [==============================] - 1s 9ms/step - loss: 0.0386 - accuracy: 0.0309\n",
            "Epoch 47/200\n",
            "133/133 [==============================] - 1s 9ms/step - loss: 0.0385 - accuracy: 0.0309\n",
            "Epoch 48/200\n",
            "133/133 [==============================] - 1s 9ms/step - loss: 0.0384 - accuracy: 0.0309\n",
            "Epoch 49/200\n",
            "133/133 [==============================] - 1s 9ms/step - loss: 0.0384 - accuracy: 0.0309\n",
            "Epoch 50/200\n",
            "133/133 [==============================] - 1s 9ms/step - loss: 0.0383 - accuracy: 0.0309\n",
            "Epoch 51/200\n",
            "133/133 [==============================] - 1s 9ms/step - loss: 0.0382 - accuracy: 0.0309\n",
            "Epoch 52/200\n",
            "133/133 [==============================] - 1s 9ms/step - loss: 0.0382 - accuracy: 0.0309\n",
            "Epoch 53/200\n",
            "133/133 [==============================] - 1s 9ms/step - loss: 0.0381 - accuracy: 0.0309\n",
            "Epoch 54/200\n",
            "133/133 [==============================] - 1s 9ms/step - loss: 0.0380 - accuracy: 0.0309\n",
            "Epoch 55/200\n",
            "133/133 [==============================] - 1s 9ms/step - loss: 0.0380 - accuracy: 0.0309\n",
            "Epoch 56/200\n",
            "133/133 [==============================] - 1s 9ms/step - loss: 0.0379 - accuracy: 0.0309\n",
            "Epoch 57/200\n",
            "133/133 [==============================] - 2s 14ms/step - loss: 0.0378 - accuracy: 0.0309\n",
            "Epoch 58/200\n",
            "133/133 [==============================] - 2s 14ms/step - loss: 0.0378 - accuracy: 0.0309\n",
            "Epoch 59/200\n",
            "133/133 [==============================] - 2s 14ms/step - loss: 0.0377 - accuracy: 0.0309\n",
            "Epoch 60/200\n",
            "133/133 [==============================] - 1s 9ms/step - loss: 0.0377 - accuracy: 0.0309\n",
            "Epoch 61/200\n",
            "133/133 [==============================] - 1s 9ms/step - loss: 0.0376 - accuracy: 0.0309\n",
            "Epoch 62/200\n",
            "133/133 [==============================] - 1s 9ms/step - loss: 0.0376 - accuracy: 0.0309\n",
            "Epoch 63/200\n",
            "133/133 [==============================] - 1s 9ms/step - loss: 0.0375 - accuracy: 0.0309\n",
            "Epoch 64/200\n",
            "133/133 [==============================] - 1s 11ms/step - loss: 0.0374 - accuracy: 0.0309\n",
            "Epoch 65/200\n",
            "133/133 [==============================] - 1s 11ms/step - loss: 0.0374 - accuracy: 0.0309\n",
            "Epoch 66/200\n",
            "133/133 [==============================] - 1s 11ms/step - loss: 0.0373 - accuracy: 0.0311\n",
            "Epoch 67/200\n",
            "133/133 [==============================] - 2s 12ms/step - loss: 0.0373 - accuracy: 0.0311\n",
            "Epoch 68/200\n",
            "133/133 [==============================] - 2s 14ms/step - loss: 0.0372 - accuracy: 0.0311\n",
            "Epoch 69/200\n",
            "133/133 [==============================] - 1s 9ms/step - loss: 0.0372 - accuracy: 0.0311\n",
            "Epoch 70/200\n",
            "133/133 [==============================] - 1s 9ms/step - loss: 0.0371 - accuracy: 0.0311\n",
            "Epoch 71/200\n",
            "133/133 [==============================] - 1s 9ms/step - loss: 0.0371 - accuracy: 0.0311\n",
            "Epoch 72/200\n",
            "133/133 [==============================] - 1s 9ms/step - loss: 0.0370 - accuracy: 0.0311\n",
            "Epoch 73/200\n",
            "133/133 [==============================] - 1s 9ms/step - loss: 0.0370 - accuracy: 0.0311\n",
            "Epoch 74/200\n",
            "133/133 [==============================] - 1s 9ms/step - loss: 0.0369 - accuracy: 0.0311\n",
            "Epoch 75/200\n",
            "133/133 [==============================] - 1s 9ms/step - loss: 0.0369 - accuracy: 0.0311\n",
            "Epoch 76/200\n",
            "133/133 [==============================] - 1s 9ms/step - loss: 0.0369 - accuracy: 0.0311\n",
            "Epoch 77/200\n",
            "133/133 [==============================] - 1s 9ms/step - loss: 0.0368 - accuracy: 0.0311\n",
            "Epoch 78/200\n",
            "133/133 [==============================] - 1s 9ms/step - loss: 0.0368 - accuracy: 0.0311\n",
            "Epoch 79/200\n",
            "133/133 [==============================] - 1s 9ms/step - loss: 0.0367 - accuracy: 0.0311\n",
            "Epoch 80/200\n",
            "133/133 [==============================] - 1s 9ms/step - loss: 0.0367 - accuracy: 0.0311\n",
            "Epoch 81/200\n",
            "133/133 [==============================] - 1s 9ms/step - loss: 0.0366 - accuracy: 0.0311\n",
            "Epoch 82/200\n",
            "133/133 [==============================] - 1s 9ms/step - loss: 0.0366 - accuracy: 0.0311\n",
            "Epoch 83/200\n",
            "133/133 [==============================] - 1s 9ms/step - loss: 0.0366 - accuracy: 0.0311\n",
            "Epoch 84/200\n",
            "133/133 [==============================] - 1s 9ms/step - loss: 0.0365 - accuracy: 0.0311\n",
            "Epoch 85/200\n",
            "133/133 [==============================] - 1s 9ms/step - loss: 0.0365 - accuracy: 0.0311\n",
            "Epoch 86/200\n",
            "133/133 [==============================] - 1s 9ms/step - loss: 0.0364 - accuracy: 0.0311\n",
            "Epoch 87/200\n",
            "133/133 [==============================] - 1s 9ms/step - loss: 0.0364 - accuracy: 0.0311\n",
            "Epoch 88/200\n",
            "133/133 [==============================] - 1s 9ms/step - loss: 0.0364 - accuracy: 0.0311\n",
            "Epoch 89/200\n",
            "133/133 [==============================] - 1s 9ms/step - loss: 0.0363 - accuracy: 0.0311\n",
            "Epoch 90/200\n",
            "133/133 [==============================] - 1s 9ms/step - loss: 0.0363 - accuracy: 0.0311\n",
            "Epoch 91/200\n",
            "133/133 [==============================] - 1s 9ms/step - loss: 0.0363 - accuracy: 0.0311\n",
            "Epoch 92/200\n",
            "133/133 [==============================] - 1s 9ms/step - loss: 0.0362 - accuracy: 0.0311\n",
            "Epoch 93/200\n",
            "133/133 [==============================] - 1s 9ms/step - loss: 0.0362 - accuracy: 0.0311\n",
            "Epoch 94/200\n",
            "133/133 [==============================] - 1s 9ms/step - loss: 0.0362 - accuracy: 0.0311\n",
            "Epoch 95/200\n",
            "133/133 [==============================] - 1s 9ms/step - loss: 0.0361 - accuracy: 0.0311\n",
            "Epoch 96/200\n",
            "133/133 [==============================] - 1s 9ms/step - loss: 0.0361 - accuracy: 0.0311\n",
            "Epoch 97/200\n",
            "133/133 [==============================] - 1s 9ms/step - loss: 0.0361 - accuracy: 0.0314\n",
            "Epoch 98/200\n",
            "133/133 [==============================] - 1s 9ms/step - loss: 0.0360 - accuracy: 0.0314\n",
            "Epoch 99/200\n",
            "133/133 [==============================] - 1s 9ms/step - loss: 0.0360 - accuracy: 0.0314\n",
            "Epoch 100/200\n",
            "133/133 [==============================] - 1s 9ms/step - loss: 0.0360 - accuracy: 0.0314\n",
            "Epoch 101/200\n",
            "133/133 [==============================] - 1s 9ms/step - loss: 0.0359 - accuracy: 0.0314\n",
            "Epoch 102/200\n",
            "133/133 [==============================] - 1s 9ms/step - loss: 0.0359 - accuracy: 0.0314\n",
            "Epoch 103/200\n",
            "133/133 [==============================] - 1s 9ms/step - loss: 0.0359 - accuracy: 0.0311\n",
            "Epoch 104/200\n",
            "133/133 [==============================] - 1s 9ms/step - loss: 0.0358 - accuracy: 0.0311\n",
            "Epoch 105/200\n",
            "133/133 [==============================] - 1s 9ms/step - loss: 0.0358 - accuracy: 0.0311\n",
            "Epoch 106/200\n",
            "133/133 [==============================] - 1s 9ms/step - loss: 0.0358 - accuracy: 0.0311\n",
            "Epoch 107/200\n",
            "133/133 [==============================] - 1s 9ms/step - loss: 0.0357 - accuracy: 0.0311\n",
            "Epoch 108/200\n",
            "133/133 [==============================] - 1s 9ms/step - loss: 0.0357 - accuracy: 0.0311\n",
            "Epoch 109/200\n",
            "133/133 [==============================] - 1s 9ms/step - loss: 0.0357 - accuracy: 0.0311\n",
            "Epoch 110/200\n",
            "133/133 [==============================] - 1s 9ms/step - loss: 0.0357 - accuracy: 0.0311\n",
            "Epoch 111/200\n",
            "133/133 [==============================] - 1s 9ms/step - loss: 0.0356 - accuracy: 0.0311\n",
            "Epoch 112/200\n",
            "133/133 [==============================] - 1s 9ms/step - loss: 0.0356 - accuracy: 0.0314\n",
            "Epoch 113/200\n",
            "133/133 [==============================] - 1s 9ms/step - loss: 0.0356 - accuracy: 0.0314\n",
            "Epoch 114/200\n",
            "133/133 [==============================] - 1s 9ms/step - loss: 0.0356 - accuracy: 0.0314\n",
            "Epoch 115/200\n",
            "133/133 [==============================] - 1s 9ms/step - loss: 0.0355 - accuracy: 0.0314\n",
            "Epoch 116/200\n",
            "133/133 [==============================] - 1s 9ms/step - loss: 0.0355 - accuracy: 0.0314\n",
            "Epoch 117/200\n",
            "133/133 [==============================] - 1s 9ms/step - loss: 0.0355 - accuracy: 0.0314\n",
            "Epoch 118/200\n",
            "133/133 [==============================] - 1s 9ms/step - loss: 0.0354 - accuracy: 0.0314\n",
            "Epoch 119/200\n",
            "133/133 [==============================] - 1s 9ms/step - loss: 0.0354 - accuracy: 0.0314\n",
            "Epoch 120/200\n",
            "133/133 [==============================] - 1s 9ms/step - loss: 0.0354 - accuracy: 0.0314\n",
            "Epoch 121/200\n",
            "133/133 [==============================] - 1s 9ms/step - loss: 0.0354 - accuracy: 0.0314\n",
            "Epoch 122/200\n",
            "133/133 [==============================] - 1s 9ms/step - loss: 0.0353 - accuracy: 0.0314\n",
            "Epoch 123/200\n",
            "133/133 [==============================] - 1s 9ms/step - loss: 0.0353 - accuracy: 0.0314\n",
            "Epoch 124/200\n",
            "133/133 [==============================] - 1s 9ms/step - loss: 0.0353 - accuracy: 0.0314\n",
            "Epoch 125/200\n",
            "133/133 [==============================] - 1s 10ms/step - loss: 0.0353 - accuracy: 0.0314\n",
            "Epoch 126/200\n",
            "133/133 [==============================] - 1s 9ms/step - loss: 0.0352 - accuracy: 0.0314\n",
            "Epoch 127/200\n",
            "133/133 [==============================] - 1s 9ms/step - loss: 0.0352 - accuracy: 0.0314\n",
            "Epoch 128/200\n",
            "133/133 [==============================] - 1s 9ms/step - loss: 0.0352 - accuracy: 0.0314\n",
            "Epoch 129/200\n",
            "133/133 [==============================] - 1s 9ms/step - loss: 0.0352 - accuracy: 0.0314\n",
            "Epoch 130/200\n",
            "133/133 [==============================] - 1s 9ms/step - loss: 0.0352 - accuracy: 0.0314\n",
            "Epoch 131/200\n",
            "133/133 [==============================] - 1s 9ms/step - loss: 0.0351 - accuracy: 0.0314\n",
            "Epoch 132/200\n",
            "133/133 [==============================] - 1s 9ms/step - loss: 0.0351 - accuracy: 0.0314\n",
            "Epoch 133/200\n",
            "133/133 [==============================] - 1s 9ms/step - loss: 0.0351 - accuracy: 0.0314\n",
            "Epoch 134/200\n",
            "133/133 [==============================] - 1s 9ms/step - loss: 0.0351 - accuracy: 0.0314\n",
            "Epoch 135/200\n",
            "133/133 [==============================] - 1s 9ms/step - loss: 0.0350 - accuracy: 0.0314\n",
            "Epoch 136/200\n",
            "133/133 [==============================] - 1s 9ms/step - loss: 0.0350 - accuracy: 0.0314\n",
            "Epoch 137/200\n",
            "133/133 [==============================] - 1s 9ms/step - loss: 0.0350 - accuracy: 0.0314\n",
            "Epoch 138/200\n",
            "133/133 [==============================] - 1s 10ms/step - loss: 0.0350 - accuracy: 0.0314\n",
            "Epoch 139/200\n",
            "133/133 [==============================] - 1s 10ms/step - loss: 0.0350 - accuracy: 0.0314\n",
            "Epoch 140/200\n",
            "133/133 [==============================] - 1s 9ms/step - loss: 0.0349 - accuracy: 0.0314\n",
            "Epoch 141/200\n",
            "133/133 [==============================] - 1s 9ms/step - loss: 0.0349 - accuracy: 0.0314\n",
            "Epoch 142/200\n",
            "133/133 [==============================] - 1s 9ms/step - loss: 0.0349 - accuracy: 0.0314\n",
            "Epoch 143/200\n",
            "133/133 [==============================] - 1s 9ms/step - loss: 0.0349 - accuracy: 0.0314\n",
            "Epoch 144/200\n",
            "133/133 [==============================] - 1s 9ms/step - loss: 0.0348 - accuracy: 0.0314\n",
            "Epoch 145/200\n",
            "133/133 [==============================] - 1s 9ms/step - loss: 0.0348 - accuracy: 0.0314\n",
            "Epoch 146/200\n",
            "133/133 [==============================] - 1s 9ms/step - loss: 0.0348 - accuracy: 0.0314\n",
            "Epoch 147/200\n",
            "133/133 [==============================] - 1s 9ms/step - loss: 0.0348 - accuracy: 0.0314\n",
            "Epoch 148/200\n",
            "133/133 [==============================] - 1s 9ms/step - loss: 0.0348 - accuracy: 0.0314\n",
            "Epoch 149/200\n",
            "133/133 [==============================] - 1s 9ms/step - loss: 0.0347 - accuracy: 0.0314\n",
            "Epoch 150/200\n",
            "133/133 [==============================] - 1s 9ms/step - loss: 0.0347 - accuracy: 0.0314\n",
            "Epoch 151/200\n",
            "133/133 [==============================] - 1s 9ms/step - loss: 0.0347 - accuracy: 0.0314\n",
            "Epoch 152/200\n",
            "133/133 [==============================] - 1s 9ms/step - loss: 0.0347 - accuracy: 0.0311\n",
            "Epoch 153/200\n",
            "133/133 [==============================] - 1s 9ms/step - loss: 0.0347 - accuracy: 0.0311\n",
            "Epoch 154/200\n",
            "133/133 [==============================] - 1s 9ms/step - loss: 0.0347 - accuracy: 0.0311\n",
            "Epoch 155/200\n",
            "133/133 [==============================] - 1s 10ms/step - loss: 0.0346 - accuracy: 0.0311\n",
            "Epoch 156/200\n",
            "133/133 [==============================] - 1s 9ms/step - loss: 0.0346 - accuracy: 0.0311\n",
            "Epoch 157/200\n",
            "133/133 [==============================] - 1s 9ms/step - loss: 0.0346 - accuracy: 0.0311\n",
            "Epoch 158/200\n",
            "133/133 [==============================] - 1s 9ms/step - loss: 0.0346 - accuracy: 0.0311\n",
            "Epoch 159/200\n",
            "133/133 [==============================] - 1s 9ms/step - loss: 0.0346 - accuracy: 0.0311\n",
            "Epoch 160/200\n",
            "133/133 [==============================] - 1s 9ms/step - loss: 0.0345 - accuracy: 0.0311\n",
            "Epoch 161/200\n",
            "133/133 [==============================] - 1s 9ms/step - loss: 0.0345 - accuracy: 0.0311\n",
            "Epoch 162/200\n",
            "133/133 [==============================] - 1s 9ms/step - loss: 0.0345 - accuracy: 0.0311\n",
            "Epoch 163/200\n",
            "133/133 [==============================] - 1s 9ms/step - loss: 0.0345 - accuracy: 0.0311\n",
            "Epoch 164/200\n",
            "133/133 [==============================] - 1s 9ms/step - loss: 0.0345 - accuracy: 0.0311\n",
            "Epoch 165/200\n",
            "133/133 [==============================] - 1s 9ms/step - loss: 0.0345 - accuracy: 0.0311\n",
            "Epoch 166/200\n",
            "133/133 [==============================] - 1s 9ms/step - loss: 0.0344 - accuracy: 0.0311\n",
            "Epoch 167/200\n",
            "133/133 [==============================] - 1s 9ms/step - loss: 0.0344 - accuracy: 0.0311\n",
            "Epoch 168/200\n",
            "133/133 [==============================] - 1s 9ms/step - loss: 0.0344 - accuracy: 0.0311\n",
            "Epoch 169/200\n",
            "133/133 [==============================] - 1s 9ms/step - loss: 0.0344 - accuracy: 0.0311\n",
            "Epoch 170/200\n",
            "133/133 [==============================] - 1s 9ms/step - loss: 0.0344 - accuracy: 0.0311\n",
            "Epoch 171/200\n",
            "133/133 [==============================] - 1s 9ms/step - loss: 0.0344 - accuracy: 0.0311\n",
            "Epoch 172/200\n",
            "133/133 [==============================] - 1s 9ms/step - loss: 0.0343 - accuracy: 0.0311\n",
            "Epoch 173/200\n",
            "133/133 [==============================] - 1s 9ms/step - loss: 0.0343 - accuracy: 0.0311\n",
            "Epoch 174/200\n",
            "133/133 [==============================] - 1s 9ms/step - loss: 0.0343 - accuracy: 0.0311\n",
            "Epoch 175/200\n",
            "133/133 [==============================] - 1s 9ms/step - loss: 0.0343 - accuracy: 0.0311\n",
            "Epoch 176/200\n",
            "133/133 [==============================] - 1s 9ms/step - loss: 0.0343 - accuracy: 0.0311\n",
            "Epoch 177/200\n",
            "133/133 [==============================] - 1s 9ms/step - loss: 0.0343 - accuracy: 0.0311\n",
            "Epoch 178/200\n",
            "133/133 [==============================] - 1s 9ms/step - loss: 0.0342 - accuracy: 0.0311\n",
            "Epoch 179/200\n",
            "133/133 [==============================] - 1s 9ms/step - loss: 0.0342 - accuracy: 0.0311\n",
            "Epoch 180/200\n",
            "133/133 [==============================] - 1s 9ms/step - loss: 0.0342 - accuracy: 0.0311\n",
            "Epoch 181/200\n",
            "133/133 [==============================] - 1s 9ms/step - loss: 0.0342 - accuracy: 0.0311\n",
            "Epoch 182/200\n",
            "133/133 [==============================] - 1s 9ms/step - loss: 0.0342 - accuracy: 0.0311\n",
            "Epoch 183/200\n",
            "133/133 [==============================] - 1s 9ms/step - loss: 0.0342 - accuracy: 0.0311\n",
            "Epoch 184/200\n",
            "133/133 [==============================] - 1s 9ms/step - loss: 0.0341 - accuracy: 0.0311\n",
            "Epoch 185/200\n",
            "133/133 [==============================] - 1s 9ms/step - loss: 0.0341 - accuracy: 0.0311\n",
            "Epoch 186/200\n",
            "133/133 [==============================] - 1s 9ms/step - loss: 0.0341 - accuracy: 0.0309\n",
            "Epoch 187/200\n",
            "133/133 [==============================] - 1s 9ms/step - loss: 0.0341 - accuracy: 0.0311\n",
            "Epoch 188/200\n",
            "133/133 [==============================] - 1s 9ms/step - loss: 0.0341 - accuracy: 0.0311\n",
            "Epoch 189/200\n",
            "133/133 [==============================] - 1s 9ms/step - loss: 0.0341 - accuracy: 0.0311\n",
            "Epoch 190/200\n",
            "133/133 [==============================] - 1s 9ms/step - loss: 0.0341 - accuracy: 0.0309\n",
            "Epoch 191/200\n",
            "133/133 [==============================] - 1s 9ms/step - loss: 0.0340 - accuracy: 0.0309\n",
            "Epoch 192/200\n",
            "133/133 [==============================] - 1s 9ms/step - loss: 0.0340 - accuracy: 0.0311\n",
            "Epoch 193/200\n",
            "133/133 [==============================] - 1s 9ms/step - loss: 0.0340 - accuracy: 0.0309\n",
            "Epoch 194/200\n",
            "133/133 [==============================] - 1s 9ms/step - loss: 0.0340 - accuracy: 0.0311\n",
            "Epoch 195/200\n",
            "133/133 [==============================] - 1s 9ms/step - loss: 0.0340 - accuracy: 0.0311\n",
            "Epoch 196/200\n",
            "133/133 [==============================] - 1s 9ms/step - loss: 0.0340 - accuracy: 0.0311\n",
            "Epoch 197/200\n",
            "133/133 [==============================] - 1s 9ms/step - loss: 0.0340 - accuracy: 0.0311\n",
            "Epoch 198/200\n",
            "133/133 [==============================] - 1s 9ms/step - loss: 0.0339 - accuracy: 0.0311\n",
            "Epoch 199/200\n",
            "133/133 [==============================] - 1s 9ms/step - loss: 0.0339 - accuracy: 0.0311\n",
            "Epoch 200/200\n",
            "133/133 [==============================] - 1s 9ms/step - loss: 0.0339 - accuracy: 0.0311\n"
          ]
        },
        {
          "output_type": "execute_result",
          "data": {
            "text/plain": [
              "<keras.callbacks.History at 0x7f8d99005ad0>"
            ]
          },
          "metadata": {},
          "execution_count": 52
        }
      ]
    },
    {
      "cell_type": "code",
      "source": [
        "predict_x=model.predict(x_test) "
      ],
      "metadata": {
        "id": "LNcJb8dTjS8i"
      },
      "execution_count": 53,
      "outputs": []
    },
    {
      "cell_type": "code",
      "source": [
        "predict_x[0]"
      ],
      "metadata": {
        "colab": {
          "base_uri": "https://localhost:8080/"
        },
        "id": "j1eX1P5ejS6o",
        "outputId": "f65120d9-a673-4d24-9854-4f9ba7724529"
      },
      "execution_count": 54,
      "outputs": [
        {
          "output_type": "execute_result",
          "data": {
            "text/plain": [
              "array([0.5062029], dtype=float32)"
            ]
          },
          "metadata": {},
          "execution_count": 54
        }
      ]
    },
    {
      "cell_type": "code",
      "source": [
        "p = list(predict_x)"
      ],
      "metadata": {
        "id": "zcxNJ3zhjukO"
      },
      "execution_count": 55,
      "outputs": []
    },
    {
      "cell_type": "code",
      "source": [
        "p = [ p[i][0] for i in range(len(p)) ]"
      ],
      "metadata": {
        "id": "Q2JE4MCrj-ZA"
      },
      "execution_count": 56,
      "outputs": []
    },
    {
      "cell_type": "code",
      "source": [
        "y_test[0],p[0]"
      ],
      "metadata": {
        "colab": {
          "base_uri": "https://localhost:8080/"
        },
        "id": "HciBMHoSjS3L",
        "outputId": "a7884752-6fd5-4033-8158-c5a48bc6894e"
      },
      "execution_count": 57,
      "outputs": [
        {
          "output_type": "execute_result",
          "data": {
            "text/plain": [
              "(0.333333333, 0.5062029)"
            ]
          },
          "metadata": {},
          "execution_count": 57
        }
      ]
    },
    {
      "cell_type": "code",
      "source": [
        "# calculate the Pearson's correlation between two variables\n",
        "from numpy.random import randn\n",
        "from numpy.random import seed\n",
        "from scipy.stats import pearsonr\n",
        "from scipy.stats import spearmanr\n",
        "# seed random number generator\n",
        "seed(1)\n",
        "# prepare data\n",
        "\n",
        "# calculate Pearson's correlation\n",
        "corr, _ = pearsonr(y_test,p)\n",
        "print('Pearsons correlation: %.3f' % corr,'\\n')\n",
        "corr2, _ = spearmanr(y_test,p)\n",
        "print('Spearmans correlation: %.3f' % corr2)"
      ],
      "metadata": {
        "colab": {
          "base_uri": "https://localhost:8080/"
        },
        "id": "zbbpTRKzg7YW",
        "outputId": "035d9893-006f-44a3-8b18-26eec713b61b"
      },
      "execution_count": 58,
      "outputs": [
        {
          "output_type": "stream",
          "name": "stdout",
          "text": [
            "Pearsons correlation: 0.408 \n",
            "\n",
            "Spearmans correlation: 0.394\n"
          ]
        }
      ]
    },
    {
      "cell_type": "code",
      "source": [
        ""
      ],
      "metadata": {
        "id": "oZ6WSdJAg7Vt"
      },
      "execution_count": null,
      "outputs": []
    },
    {
      "cell_type": "code",
      "source": [
        ""
      ],
      "metadata": {
        "id": "AkBYr-H3g7St"
      },
      "execution_count": null,
      "outputs": []
    }
  ]
}